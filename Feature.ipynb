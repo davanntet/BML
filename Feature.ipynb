{
 "cells": [
  {
   "cell_type": "code",
   "execution_count": 26,
   "id": "initial_id",
   "metadata": {
    "collapsed": true,
    "ExecuteTime": {
     "end_time": "2023-10-01T08:22:19.671224800Z",
     "start_time": "2023-10-01T08:22:19.636548100Z"
    }
   },
   "outputs": [],
   "source": [
    "import numpy as np\n",
    "import pandas as pd\n",
    "import matplotlib.pyplot as plt\n",
    "from sklearn.datasets import make_blobs\n",
    "import seaborn as sbs\n",
    "sbs.set()"
   ]
  },
  {
   "cell_type": "code",
   "execution_count": 35,
   "outputs": [],
   "source": [
    "X,y =make_blobs(n_samples=100,centers=4)\n",
    "X = np.asarray(X)\n",
    "y = np.asarray(y)"
   ],
   "metadata": {
    "collapsed": false,
    "ExecuteTime": {
     "end_time": "2023-10-01T08:23:11.887990400Z",
     "start_time": "2023-10-01T08:23:11.862393Z"
    }
   },
   "id": "c5262d4523a1dea6"
  },
  {
   "cell_type": "code",
   "execution_count": 36,
   "outputs": [
    {
     "data": {
      "text/plain": "array([2, 3, 2, 0, 2, 3, 0, 0, 3, 1, 0, 1, 3, 3, 3, 1, 3, 2, 1, 1, 2, 0,\n       0, 3, 0, 0, 1, 1, 3, 0, 0, 3, 2, 3, 3, 2, 3, 0, 1, 3, 1, 1, 2, 0,\n       1, 3, 2, 1, 3, 0, 1, 3, 0, 0, 2, 2, 2, 0, 3, 3, 2, 0, 1, 2, 2, 2,\n       0, 2, 3, 2, 3, 0, 0, 3, 0, 1, 2, 1, 3, 2, 2, 1, 2, 3, 0, 1, 1, 1,\n       0, 3, 1, 0, 1, 1, 2, 1, 2, 1, 0, 2])"
     },
     "execution_count": 36,
     "metadata": {},
     "output_type": "execute_result"
    }
   ],
   "source": [
    "f1 = X[:,0] #feature 1\n",
    "f1 = X[:,1] #feature 2\n",
    "category = y #category"
   ],
   "metadata": {
    "collapsed": false,
    "ExecuteTime": {
     "end_time": "2023-10-01T08:23:13.958403900Z",
     "start_time": "2023-10-01T08:23:13.951744900Z"
    }
   },
   "id": "b58d2f85ec835e5b"
  },
  {
   "cell_type": "code",
   "execution_count": null,
   "outputs": [],
   "source": [],
   "metadata": {
    "collapsed": false
   },
   "id": "8f30c4cbaad99739"
  }
 ],
 "metadata": {
  "kernelspec": {
   "display_name": "Python 3",
   "language": "python",
   "name": "python3"
  },
  "language_info": {
   "codemirror_mode": {
    "name": "ipython",
    "version": 2
   },
   "file_extension": ".py",
   "mimetype": "text/x-python",
   "name": "python",
   "nbconvert_exporter": "python",
   "pygments_lexer": "ipython2",
   "version": "2.7.6"
  }
 },
 "nbformat": 4,
 "nbformat_minor": 5
}
