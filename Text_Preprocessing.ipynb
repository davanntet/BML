{
 "cells": [
  {
   "cell_type": "markdown",
   "source": [
    "# One Hot Encoding"
   ],
   "metadata": {
    "collapsed": false
   },
   "id": "a8f8f945d5319e39"
  },
  {
   "cell_type": "code",
   "execution_count": 12,
   "outputs": [],
   "source": [
    "import numpy as np\n",
    "import pandas as pd\n"
   ],
   "metadata": {
    "collapsed": false,
    "ExecuteTime": {
     "end_time": "2023-10-02T16:00:57.236070400Z",
     "start_time": "2023-10-02T16:00:57.226245Z"
    }
   },
   "id": "165bb360892fd706"
  },
  {
   "cell_type": "code",
   "execution_count": 4,
   "outputs": [
    {
     "data": {
      "text/plain": "            0   1       2            3   4                    5   \\\n0          NaN  C0      C2           C3  C4                   C5   \n1          0.0  39   77516    Bachelors  13        Never-married   \n2          1.0  50   83311    Bachelors  13   Married-civ-spouse   \n3          2.0  38  215646      HS-grad   9             Divorced   \n4          3.0  53  234721         11th   7   Married-civ-spouse   \n...        ...  ..     ...          ...  ..                  ...   \n32557  32556.0  27  257302   Assoc-acdm  12   Married-civ-spouse   \n32558  32557.0  40  154374      HS-grad   9   Married-civ-spouse   \n32559  32558.0  58  151910      HS-grad   9              Widowed   \n32560  32559.0  22  201490      HS-grad   9        Never-married   \n32561  32560.0  52  287927      HS-grad   9   Married-civ-spouse   \n\n                       6               7       8        9   ...  \\\n0                      C6              C7      C8       C9  ...   \n1            Adm-clerical   Not-in-family   White     Male  ...   \n2         Exec-managerial         Husband   White     Male  ...   \n3       Handlers-cleaners   Not-in-family   White     Male  ...   \n4       Handlers-cleaners         Husband   Black     Male  ...   \n...                   ...             ...     ...      ...  ...   \n32557        Tech-support            Wife   White   Female  ...   \n32558   Machine-op-inspct         Husband   White     Male  ...   \n32559        Adm-clerical       Unmarried   White   Female  ...   \n32560        Adm-clerical       Own-child   White     Male  ...   \n32561     Exec-managerial            Wife   White   Female  ...   \n\n                    15             16                17           18  \\\n0      C1_ Federal-gov  C1_ Local-gov  C1_ Never-worked  C1_ Private   \n1                    0              0                 0            0   \n2                    0              0                 0            0   \n3                    0              0                 0            1   \n4                    0              0                 0            1   \n...                ...            ...               ...          ...   \n32557                0              0                 0            1   \n32558                0              0                 0            1   \n32559                0              0                 0            1   \n32560                0              0                 0            1   \n32561                0              0                 0            0   \n\n                     19                    20             21               22  \\\n0      C1_ Self-emp-inc  C1_ Self-emp-not-inc  C1_ State-gov  C1_ Without-pay   \n1                     0                     0              1                0   \n2                     0                     1              0                0   \n3                     0                     0              0                0   \n4                     0                     0              0                0   \n...                 ...                   ...            ...              ...   \n32557                 0                     0              0                0   \n32558                 0                     0              0                0   \n32559                 0                     0              0                0   \n32560                 0                     0              0                0   \n32561                 1                     0              0                0   \n\n           23     24  \n0      C14_-1  C14_1  \n1           1      0  \n2           1      0  \n3           1      0  \n4           1      0  \n...       ...    ...  \n32557       1      0  \n32558       0      1  \n32559       1      0  \n32560       1      0  \n32561       0      1  \n\n[32562 rows x 25 columns]",
      "text/html": "<div>\n<style scoped>\n    .dataframe tbody tr th:only-of-type {\n        vertical-align: middle;\n    }\n\n    .dataframe tbody tr th {\n        vertical-align: top;\n    }\n\n    .dataframe thead th {\n        text-align: right;\n    }\n</style>\n<table border=\"1\" class=\"dataframe\">\n  <thead>\n    <tr style=\"text-align: right;\">\n      <th></th>\n      <th>0</th>\n      <th>1</th>\n      <th>2</th>\n      <th>3</th>\n      <th>4</th>\n      <th>5</th>\n      <th>6</th>\n      <th>7</th>\n      <th>8</th>\n      <th>9</th>\n      <th>...</th>\n      <th>15</th>\n      <th>16</th>\n      <th>17</th>\n      <th>18</th>\n      <th>19</th>\n      <th>20</th>\n      <th>21</th>\n      <th>22</th>\n      <th>23</th>\n      <th>24</th>\n    </tr>\n  </thead>\n  <tbody>\n    <tr>\n      <th>0</th>\n      <td>NaN</td>\n      <td>C0</td>\n      <td>C2</td>\n      <td>C3</td>\n      <td>C4</td>\n      <td>C5</td>\n      <td>C6</td>\n      <td>C7</td>\n      <td>C8</td>\n      <td>C9</td>\n      <td>...</td>\n      <td>C1_ Federal-gov</td>\n      <td>C1_ Local-gov</td>\n      <td>C1_ Never-worked</td>\n      <td>C1_ Private</td>\n      <td>C1_ Self-emp-inc</td>\n      <td>C1_ Self-emp-not-inc</td>\n      <td>C1_ State-gov</td>\n      <td>C1_ Without-pay</td>\n      <td>C14_-1</td>\n      <td>C14_1</td>\n    </tr>\n    <tr>\n      <th>1</th>\n      <td>0.0</td>\n      <td>39</td>\n      <td>77516</td>\n      <td>Bachelors</td>\n      <td>13</td>\n      <td>Never-married</td>\n      <td>Adm-clerical</td>\n      <td>Not-in-family</td>\n      <td>White</td>\n      <td>Male</td>\n      <td>...</td>\n      <td>0</td>\n      <td>0</td>\n      <td>0</td>\n      <td>0</td>\n      <td>0</td>\n      <td>0</td>\n      <td>1</td>\n      <td>0</td>\n      <td>1</td>\n      <td>0</td>\n    </tr>\n    <tr>\n      <th>2</th>\n      <td>1.0</td>\n      <td>50</td>\n      <td>83311</td>\n      <td>Bachelors</td>\n      <td>13</td>\n      <td>Married-civ-spouse</td>\n      <td>Exec-managerial</td>\n      <td>Husband</td>\n      <td>White</td>\n      <td>Male</td>\n      <td>...</td>\n      <td>0</td>\n      <td>0</td>\n      <td>0</td>\n      <td>0</td>\n      <td>0</td>\n      <td>1</td>\n      <td>0</td>\n      <td>0</td>\n      <td>1</td>\n      <td>0</td>\n    </tr>\n    <tr>\n      <th>3</th>\n      <td>2.0</td>\n      <td>38</td>\n      <td>215646</td>\n      <td>HS-grad</td>\n      <td>9</td>\n      <td>Divorced</td>\n      <td>Handlers-cleaners</td>\n      <td>Not-in-family</td>\n      <td>White</td>\n      <td>Male</td>\n      <td>...</td>\n      <td>0</td>\n      <td>0</td>\n      <td>0</td>\n      <td>1</td>\n      <td>0</td>\n      <td>0</td>\n      <td>0</td>\n      <td>0</td>\n      <td>1</td>\n      <td>0</td>\n    </tr>\n    <tr>\n      <th>4</th>\n      <td>3.0</td>\n      <td>53</td>\n      <td>234721</td>\n      <td>11th</td>\n      <td>7</td>\n      <td>Married-civ-spouse</td>\n      <td>Handlers-cleaners</td>\n      <td>Husband</td>\n      <td>Black</td>\n      <td>Male</td>\n      <td>...</td>\n      <td>0</td>\n      <td>0</td>\n      <td>0</td>\n      <td>1</td>\n      <td>0</td>\n      <td>0</td>\n      <td>0</td>\n      <td>0</td>\n      <td>1</td>\n      <td>0</td>\n    </tr>\n    <tr>\n      <th>...</th>\n      <td>...</td>\n      <td>...</td>\n      <td>...</td>\n      <td>...</td>\n      <td>...</td>\n      <td>...</td>\n      <td>...</td>\n      <td>...</td>\n      <td>...</td>\n      <td>...</td>\n      <td>...</td>\n      <td>...</td>\n      <td>...</td>\n      <td>...</td>\n      <td>...</td>\n      <td>...</td>\n      <td>...</td>\n      <td>...</td>\n      <td>...</td>\n      <td>...</td>\n      <td>...</td>\n    </tr>\n    <tr>\n      <th>32557</th>\n      <td>32556.0</td>\n      <td>27</td>\n      <td>257302</td>\n      <td>Assoc-acdm</td>\n      <td>12</td>\n      <td>Married-civ-spouse</td>\n      <td>Tech-support</td>\n      <td>Wife</td>\n      <td>White</td>\n      <td>Female</td>\n      <td>...</td>\n      <td>0</td>\n      <td>0</td>\n      <td>0</td>\n      <td>1</td>\n      <td>0</td>\n      <td>0</td>\n      <td>0</td>\n      <td>0</td>\n      <td>1</td>\n      <td>0</td>\n    </tr>\n    <tr>\n      <th>32558</th>\n      <td>32557.0</td>\n      <td>40</td>\n      <td>154374</td>\n      <td>HS-grad</td>\n      <td>9</td>\n      <td>Married-civ-spouse</td>\n      <td>Machine-op-inspct</td>\n      <td>Husband</td>\n      <td>White</td>\n      <td>Male</td>\n      <td>...</td>\n      <td>0</td>\n      <td>0</td>\n      <td>0</td>\n      <td>1</td>\n      <td>0</td>\n      <td>0</td>\n      <td>0</td>\n      <td>0</td>\n      <td>0</td>\n      <td>1</td>\n    </tr>\n    <tr>\n      <th>32559</th>\n      <td>32558.0</td>\n      <td>58</td>\n      <td>151910</td>\n      <td>HS-grad</td>\n      <td>9</td>\n      <td>Widowed</td>\n      <td>Adm-clerical</td>\n      <td>Unmarried</td>\n      <td>White</td>\n      <td>Female</td>\n      <td>...</td>\n      <td>0</td>\n      <td>0</td>\n      <td>0</td>\n      <td>1</td>\n      <td>0</td>\n      <td>0</td>\n      <td>0</td>\n      <td>0</td>\n      <td>1</td>\n      <td>0</td>\n    </tr>\n    <tr>\n      <th>32560</th>\n      <td>32559.0</td>\n      <td>22</td>\n      <td>201490</td>\n      <td>HS-grad</td>\n      <td>9</td>\n      <td>Never-married</td>\n      <td>Adm-clerical</td>\n      <td>Own-child</td>\n      <td>White</td>\n      <td>Male</td>\n      <td>...</td>\n      <td>0</td>\n      <td>0</td>\n      <td>0</td>\n      <td>1</td>\n      <td>0</td>\n      <td>0</td>\n      <td>0</td>\n      <td>0</td>\n      <td>1</td>\n      <td>0</td>\n    </tr>\n    <tr>\n      <th>32561</th>\n      <td>32560.0</td>\n      <td>52</td>\n      <td>287927</td>\n      <td>HS-grad</td>\n      <td>9</td>\n      <td>Married-civ-spouse</td>\n      <td>Exec-managerial</td>\n      <td>Wife</td>\n      <td>White</td>\n      <td>Female</td>\n      <td>...</td>\n      <td>0</td>\n      <td>0</td>\n      <td>0</td>\n      <td>0</td>\n      <td>1</td>\n      <td>0</td>\n      <td>0</td>\n      <td>0</td>\n      <td>0</td>\n      <td>1</td>\n    </tr>\n  </tbody>\n</table>\n<p>32562 rows × 25 columns</p>\n</div>"
     },
     "execution_count": 4,
     "metadata": {},
     "output_type": "execute_result"
    }
   ],
   "source": [
    "datas = pd.read_csv(\"adult.csv\",header=None)\n",
    "datas"
   ],
   "metadata": {
    "collapsed": false,
    "ExecuteTime": {
     "end_time": "2023-10-02T15:57:17.436157900Z",
     "start_time": "2023-10-02T15:57:17.308767100Z"
    }
   },
   "id": "50f55467788db7e6"
  },
  {
   "cell_type": "code",
   "execution_count": 14,
   "outputs": [
    {
     "data": {
      "text/plain": "             0              13     14               15             16  \\\n0          NaN             C13  C1_ ?  C1_ Federal-gov  C1_ Local-gov   \n1          0.0   United-States      0                0              0   \n2          1.0   United-States      0                0              0   \n3          2.0   United-States      0                0              0   \n4          3.0   United-States      0                0              0   \n...        ...             ...    ...              ...            ...   \n32557  32556.0   United-States      0                0              0   \n32558  32557.0   United-States      0                0              0   \n32559  32558.0   United-States      0                0              0   \n32560  32559.0   United-States      0                0              0   \n32561  32560.0   United-States      0                0              0   \n\n                     17           18                19                    20  \\\n0      C1_ Never-worked  C1_ Private  C1_ Self-emp-inc  C1_ Self-emp-not-inc   \n1                     0            0                 0                     0   \n2                     0            0                 0                     1   \n3                     0            1                 0                     0   \n4                     0            1                 0                     0   \n...                 ...          ...               ...                   ...   \n32557                 0            1                 0                     0   \n32558                 0            1                 0                     0   \n32559                 0            1                 0                     0   \n32560                 0            1                 0                     0   \n32561                 0            0                 1                     0   \n\n                  21  ...  12_90  12_91  12_92  12_94  12_95  12_96  12_97  \\\n0      C1_ State-gov  ...  False  False  False  False  False  False  False   \n1                  1  ...  False  False  False  False  False  False  False   \n2                  0  ...  False  False  False  False  False  False  False   \n3                  0  ...  False  False  False  False  False  False  False   \n4                  0  ...  False  False  False  False  False  False  False   \n...              ...  ...    ...    ...    ...    ...    ...    ...    ...   \n32557              0  ...  False  False  False  False  False  False  False   \n32558              0  ...  False  False  False  False  False  False  False   \n32559              0  ...  False  False  False  False  False  False  False   \n32560              0  ...  False  False  False  False  False  False  False   \n32561              0  ...  False  False  False  False  False  False  False   \n\n       12_98  12_99  12_C12  \n0      False  False    True  \n1      False  False   False  \n2      False  False   False  \n3      False  False   False  \n4      False  False   False  \n...      ...    ...     ...  \n32557  False  False   False  \n32558  False  False   False  \n32559  False  False   False  \n32560  False  False   False  \n32561  False  False   False  \n\n[32562 rows x 22118 columns]",
      "text/html": "<div>\n<style scoped>\n    .dataframe tbody tr th:only-of-type {\n        vertical-align: middle;\n    }\n\n    .dataframe tbody tr th {\n        vertical-align: top;\n    }\n\n    .dataframe thead th {\n        text-align: right;\n    }\n</style>\n<table border=\"1\" class=\"dataframe\">\n  <thead>\n    <tr style=\"text-align: right;\">\n      <th></th>\n      <th>0</th>\n      <th>13</th>\n      <th>14</th>\n      <th>15</th>\n      <th>16</th>\n      <th>17</th>\n      <th>18</th>\n      <th>19</th>\n      <th>20</th>\n      <th>21</th>\n      <th>...</th>\n      <th>12_90</th>\n      <th>12_91</th>\n      <th>12_92</th>\n      <th>12_94</th>\n      <th>12_95</th>\n      <th>12_96</th>\n      <th>12_97</th>\n      <th>12_98</th>\n      <th>12_99</th>\n      <th>12_C12</th>\n    </tr>\n  </thead>\n  <tbody>\n    <tr>\n      <th>0</th>\n      <td>NaN</td>\n      <td>C13</td>\n      <td>C1_ ?</td>\n      <td>C1_ Federal-gov</td>\n      <td>C1_ Local-gov</td>\n      <td>C1_ Never-worked</td>\n      <td>C1_ Private</td>\n      <td>C1_ Self-emp-inc</td>\n      <td>C1_ Self-emp-not-inc</td>\n      <td>C1_ State-gov</td>\n      <td>...</td>\n      <td>False</td>\n      <td>False</td>\n      <td>False</td>\n      <td>False</td>\n      <td>False</td>\n      <td>False</td>\n      <td>False</td>\n      <td>False</td>\n      <td>False</td>\n      <td>True</td>\n    </tr>\n    <tr>\n      <th>1</th>\n      <td>0.0</td>\n      <td>United-States</td>\n      <td>0</td>\n      <td>0</td>\n      <td>0</td>\n      <td>0</td>\n      <td>0</td>\n      <td>0</td>\n      <td>0</td>\n      <td>1</td>\n      <td>...</td>\n      <td>False</td>\n      <td>False</td>\n      <td>False</td>\n      <td>False</td>\n      <td>False</td>\n      <td>False</td>\n      <td>False</td>\n      <td>False</td>\n      <td>False</td>\n      <td>False</td>\n    </tr>\n    <tr>\n      <th>2</th>\n      <td>1.0</td>\n      <td>United-States</td>\n      <td>0</td>\n      <td>0</td>\n      <td>0</td>\n      <td>0</td>\n      <td>0</td>\n      <td>0</td>\n      <td>1</td>\n      <td>0</td>\n      <td>...</td>\n      <td>False</td>\n      <td>False</td>\n      <td>False</td>\n      <td>False</td>\n      <td>False</td>\n      <td>False</td>\n      <td>False</td>\n      <td>False</td>\n      <td>False</td>\n      <td>False</td>\n    </tr>\n    <tr>\n      <th>3</th>\n      <td>2.0</td>\n      <td>United-States</td>\n      <td>0</td>\n      <td>0</td>\n      <td>0</td>\n      <td>0</td>\n      <td>1</td>\n      <td>0</td>\n      <td>0</td>\n      <td>0</td>\n      <td>...</td>\n      <td>False</td>\n      <td>False</td>\n      <td>False</td>\n      <td>False</td>\n      <td>False</td>\n      <td>False</td>\n      <td>False</td>\n      <td>False</td>\n      <td>False</td>\n      <td>False</td>\n    </tr>\n    <tr>\n      <th>4</th>\n      <td>3.0</td>\n      <td>United-States</td>\n      <td>0</td>\n      <td>0</td>\n      <td>0</td>\n      <td>0</td>\n      <td>1</td>\n      <td>0</td>\n      <td>0</td>\n      <td>0</td>\n      <td>...</td>\n      <td>False</td>\n      <td>False</td>\n      <td>False</td>\n      <td>False</td>\n      <td>False</td>\n      <td>False</td>\n      <td>False</td>\n      <td>False</td>\n      <td>False</td>\n      <td>False</td>\n    </tr>\n    <tr>\n      <th>...</th>\n      <td>...</td>\n      <td>...</td>\n      <td>...</td>\n      <td>...</td>\n      <td>...</td>\n      <td>...</td>\n      <td>...</td>\n      <td>...</td>\n      <td>...</td>\n      <td>...</td>\n      <td>...</td>\n      <td>...</td>\n      <td>...</td>\n      <td>...</td>\n      <td>...</td>\n      <td>...</td>\n      <td>...</td>\n      <td>...</td>\n      <td>...</td>\n      <td>...</td>\n      <td>...</td>\n    </tr>\n    <tr>\n      <th>32557</th>\n      <td>32556.0</td>\n      <td>United-States</td>\n      <td>0</td>\n      <td>0</td>\n      <td>0</td>\n      <td>0</td>\n      <td>1</td>\n      <td>0</td>\n      <td>0</td>\n      <td>0</td>\n      <td>...</td>\n      <td>False</td>\n      <td>False</td>\n      <td>False</td>\n      <td>False</td>\n      <td>False</td>\n      <td>False</td>\n      <td>False</td>\n      <td>False</td>\n      <td>False</td>\n      <td>False</td>\n    </tr>\n    <tr>\n      <th>32558</th>\n      <td>32557.0</td>\n      <td>United-States</td>\n      <td>0</td>\n      <td>0</td>\n      <td>0</td>\n      <td>0</td>\n      <td>1</td>\n      <td>0</td>\n      <td>0</td>\n      <td>0</td>\n      <td>...</td>\n      <td>False</td>\n      <td>False</td>\n      <td>False</td>\n      <td>False</td>\n      <td>False</td>\n      <td>False</td>\n      <td>False</td>\n      <td>False</td>\n      <td>False</td>\n      <td>False</td>\n    </tr>\n    <tr>\n      <th>32559</th>\n      <td>32558.0</td>\n      <td>United-States</td>\n      <td>0</td>\n      <td>0</td>\n      <td>0</td>\n      <td>0</td>\n      <td>1</td>\n      <td>0</td>\n      <td>0</td>\n      <td>0</td>\n      <td>...</td>\n      <td>False</td>\n      <td>False</td>\n      <td>False</td>\n      <td>False</td>\n      <td>False</td>\n      <td>False</td>\n      <td>False</td>\n      <td>False</td>\n      <td>False</td>\n      <td>False</td>\n    </tr>\n    <tr>\n      <th>32560</th>\n      <td>32559.0</td>\n      <td>United-States</td>\n      <td>0</td>\n      <td>0</td>\n      <td>0</td>\n      <td>0</td>\n      <td>1</td>\n      <td>0</td>\n      <td>0</td>\n      <td>0</td>\n      <td>...</td>\n      <td>False</td>\n      <td>False</td>\n      <td>False</td>\n      <td>False</td>\n      <td>False</td>\n      <td>False</td>\n      <td>False</td>\n      <td>False</td>\n      <td>False</td>\n      <td>False</td>\n    </tr>\n    <tr>\n      <th>32561</th>\n      <td>32560.0</td>\n      <td>United-States</td>\n      <td>0</td>\n      <td>0</td>\n      <td>0</td>\n      <td>0</td>\n      <td>0</td>\n      <td>1</td>\n      <td>0</td>\n      <td>0</td>\n      <td>...</td>\n      <td>False</td>\n      <td>False</td>\n      <td>False</td>\n      <td>False</td>\n      <td>False</td>\n      <td>False</td>\n      <td>False</td>\n      <td>False</td>\n      <td>False</td>\n      <td>False</td>\n    </tr>\n  </tbody>\n</table>\n<p>32562 rows × 22118 columns</p>\n</div>"
     },
     "execution_count": 14,
     "metadata": {},
     "output_type": "execute_result"
    }
   ],
   "source": [
    "new_data = pd.get_dummies(data=datas,columns=np.arange(1,14))\n",
    "new_data"
   ],
   "metadata": {
    "collapsed": false,
    "ExecuteTime": {
     "end_time": "2023-10-02T16:01:15.619344900Z",
     "start_time": "2023-10-02T16:01:12.141459200Z"
    }
   },
   "id": "53eca3d0d1fe6848"
  },
  {
   "cell_type": "code",
   "execution_count": 16,
   "outputs": [
    {
     "data": {
      "text/plain": "array([1, 2, 4, 5, 6, 7, 8, 9])"
     },
     "execution_count": 16,
     "metadata": {},
     "output_type": "execute_result"
    }
   ],
   "source": [
    "arr=np.arange(1,10)\n",
    "np.delete(arr,np.where(arr==3))"
   ],
   "metadata": {
    "collapsed": false,
    "ExecuteTime": {
     "end_time": "2023-10-02T16:04:44.192894300Z",
     "start_time": "2023-10-02T16:04:44.165426900Z"
    }
   },
   "id": "9bc19aa5ae7bbe72"
  },
  {
   "cell_type": "markdown",
   "source": [
    "# Standardization"
   ],
   "metadata": {
    "collapsed": false
   },
   "id": "67384891ed8792f8"
  },
  {
   "cell_type": "code",
   "execution_count": 17,
   "outputs": [],
   "source": [
    "import numpy as np\n",
    "from sklearn.preprocessing import StandardScaler"
   ],
   "metadata": {
    "collapsed": false,
    "ExecuteTime": {
     "end_time": "2023-10-02T16:06:43.607558700Z",
     "start_time": "2023-10-02T16:06:43.016674400Z"
    }
   },
   "id": "2a8250a44ca2f679"
  },
  {
   "cell_type": "code",
   "execution_count": 36,
   "outputs": [
    {
     "name": "stdout",
     "output_type": "stream",
     "text": [
      "Mean= [0.47898678 0.53121037 0.55483212 0.45570405 0.5057446 ]\n",
      "Std= [0.27097761 0.31002476 0.28600496 0.28186215 0.27972931]\n"
     ]
    },
    {
     "data": {
      "text/plain": "array([[4.19671066e-01, 6.44707292e-01, 6.73773180e-01, 6.83353496e-01,\n        8.08820856e-01],\n       [6.56440099e-01, 2.32073258e-01, 5.19085279e-02, 5.82111443e-01,\n        3.96374586e-01],\n       [2.56187626e-01, 4.51236108e-01, 8.62154121e-01, 4.90273637e-01,\n        8.33126133e-01],\n       [4.19026679e-02, 3.63528479e-01, 2.56620829e-01, 1.36008401e-01,\n        9.01492638e-01],\n       [8.54007988e-01, 5.42361717e-01, 5.67351762e-01, 1.47172705e-01,\n        4.87168363e-01],\n       [1.44820188e-01, 8.91136645e-02, 4.07940427e-01, 6.21917991e-01,\n        5.12986835e-01],\n       [7.23715409e-01, 5.06746162e-01, 7.09887112e-01, 7.93575826e-02,\n        8.95145808e-01],\n       [1.43322460e-02, 2.57414228e-01, 7.30456290e-01, 3.51842656e-01,\n        8.07564034e-01],\n       [4.38565176e-01, 8.60069954e-01, 4.40199670e-01, 2.30375339e-01,\n        5.62455531e-01],\n       [1.25861646e-01, 4.81681801e-01, 9.88311633e-01, 4.37225241e-01,\n        2.27869903e-01],\n       [5.83329659e-01, 9.73077244e-01, 7.99644876e-01, 1.12176362e-01,\n        8.96962888e-01],\n       [6.96116741e-01, 5.49444835e-01, 3.53827609e-01, 4.42898352e-01,\n        8.74395015e-01],\n       [9.13269841e-01, 3.20131749e-01, 3.64052804e-01, 5.31972753e-01,\n        8.14109023e-01],\n       [5.64760779e-01, 6.42770958e-01, 3.78947811e-01, 3.19230071e-01,\n        8.33046987e-01],\n       [7.53795999e-01, 3.36323724e-02, 2.70282285e-01, 8.17606843e-01,\n        6.51155443e-01],\n       [3.69388923e-01, 7.95745656e-01, 8.45108653e-01, 3.36084083e-01,\n        3.92162704e-01],\n       [5.75577728e-01, 9.35427362e-01, 2.07865197e-01, 4.72031446e-01,\n        3.90765266e-01],\n       [2.41758818e-01, 7.99182752e-01, 2.66670927e-02, 1.37303598e-01,\n        8.15886899e-01],\n       [2.51794856e-01, 5.99436992e-01, 9.89812429e-01, 1.57494143e-01,\n        5.58112110e-01],\n       [4.86184047e-01, 5.14076045e-01, 6.28840114e-01, 5.09690016e-02,\n        9.48729995e-01],\n       [6.39587336e-01, 7.59912135e-01, 3.13419880e-01, 3.92573912e-01,\n        8.59883295e-02],\n       [3.24863455e-01, 5.45981638e-01, 9.48124664e-01, 8.80804558e-02,\n        3.47365143e-01],\n       [2.41244062e-01, 3.59318596e-01, 5.07193274e-01, 8.01963216e-01,\n        9.37190702e-01],\n       [5.28193240e-01, 5.45079033e-01, 1.22437292e-01, 2.14228769e-01,\n        4.75518482e-01],\n       [9.47443201e-01, 6.44638744e-03, 7.80491023e-01, 3.63634750e-01,\n        4.71657149e-01],\n       [7.47778917e-01, 1.14909701e-01, 6.13752501e-01, 3.42589123e-01,\n        7.24309569e-01],\n       [4.15054497e-01, 1.28229309e-01, 4.55918826e-01, 9.94958761e-01,\n        4.72416789e-01],\n       [8.59729584e-01, 8.35154688e-01, 9.98227695e-01, 3.51223422e-01,\n        1.61435755e-01],\n       [7.23862547e-01, 7.98034227e-01, 7.87900215e-01, 3.88083022e-01,\n        6.35854163e-01],\n       [5.31042630e-01, 4.96445484e-01, 8.52618897e-01, 4.50129653e-01,\n        4.01789294e-01],\n       [6.03493402e-01, 6.72267615e-01, 3.11014332e-01, 2.24974965e-01,\n        8.95323860e-01],\n       [8.60054518e-01, 8.22249759e-01, 7.12273767e-01, 6.15099175e-01,\n        8.28917548e-01],\n       [1.42436736e-01, 1.56793673e-01, 4.81037131e-01, 5.78580313e-01,\n        6.65603083e-01],\n       [4.05495314e-01, 5.19805519e-01, 8.45958886e-01, 3.01884869e-01,\n        3.51944582e-01],\n       [2.06114921e-01, 5.16539035e-01, 7.56022260e-01, 2.05069718e-01,\n        7.84161291e-01],\n       [3.10578131e-01, 8.74426691e-01, 3.37392594e-01, 1.15142775e-01,\n        9.49837494e-01],\n       [9.50117448e-01, 1.97408706e-02, 4.85897690e-02, 7.16099698e-01,\n        1.62467289e-01],\n       [1.92645789e-01, 6.65443828e-01, 8.51141667e-01, 1.17809939e-01,\n        3.30509569e-01],\n       [3.34895540e-01, 9.50426216e-01, 7.34103496e-01, 9.89779367e-01,\n        2.47776560e-01],\n       [6.97908802e-01, 9.23768740e-02, 9.62159689e-01, 9.07841129e-01,\n        3.30777752e-02],\n       [7.40787380e-01, 9.42346260e-01, 5.96207984e-01, 6.03190269e-01,\n        6.41324893e-01],\n       [7.13665655e-01, 4.11476424e-02, 4.41361168e-01, 2.71085543e-01,\n        2.26278379e-01],\n       [1.94831103e-01, 5.72968142e-01, 8.91821498e-01, 1.91309234e-01,\n        2.11323640e-01],\n       [8.65939500e-01, 4.28664049e-01, 3.08041206e-01, 3.45160102e-01,\n        2.10680178e-01],\n       [3.31075668e-01, 7.90586777e-01, 4.32340874e-01, 7.13475954e-01,\n        7.69208566e-01],\n       [4.90728276e-02, 6.40874991e-01, 8.25873886e-01, 6.70020285e-01,\n        2.86376825e-01],\n       [3.71737569e-01, 1.21386210e-01, 3.86267817e-01, 4.02131874e-01,\n        5.53437417e-01],\n       [5.72376346e-01, 7.83277592e-01, 4.08583015e-02, 2.18070752e-02,\n        6.19772503e-01],\n       [7.54252789e-01, 6.03288828e-01, 9.06208840e-01, 8.57828988e-01,\n        4.79658017e-01],\n       [1.32814186e-01, 9.52782686e-01, 3.92391394e-01, 7.94372270e-01,\n        5.34438271e-01],\n       [6.67483881e-01, 8.96034393e-01, 5.93558701e-01, 2.25203052e-01,\n        2.23870183e-01],\n       [6.64210495e-01, 9.61578619e-01, 7.51260510e-01, 7.95589041e-02,\n        4.96296716e-01],\n       [7.43267970e-01, 9.07987773e-01, 1.53777407e-01, 9.31817459e-01,\n        5.02098104e-01],\n       [2.49568815e-02, 8.50396138e-01, 2.46350315e-01, 5.26986085e-01,\n        2.01446704e-01],\n       [8.09175058e-01, 2.81917860e-01, 6.30780111e-01, 4.56700905e-01,\n        6.86257166e-01],\n       [8.20394416e-01, 1.70887705e-01, 6.36907226e-01, 3.60969220e-01,\n        3.78876598e-01],\n       [6.32442208e-01, 2.27295415e-01, 8.16462998e-01, 8.05602862e-01,\n        6.43292526e-01],\n       [6.72814717e-01, 1.27965332e-01, 8.55502758e-01, 3.50073786e-01,\n        3.97181255e-01],\n       [1.91694582e-01, 1.16713029e-01, 9.49375307e-01, 9.09290297e-01,\n        5.95141336e-01],\n       [5.48127901e-02, 2.92491690e-01, 8.58613095e-04, 1.49879280e-01,\n        2.10544838e-01],\n       [9.31902488e-01, 2.38458499e-01, 2.94658198e-04, 9.42871581e-02,\n        5.70992464e-02],\n       [8.09969167e-01, 9.35427193e-01, 9.41944602e-01, 8.33505994e-01,\n        6.04211181e-01],\n       [4.91751667e-01, 9.06956482e-01, 7.34981556e-01, 2.78323929e-01,\n        5.79980573e-01],\n       [4.07422831e-01, 9.03305839e-01, 4.80818167e-01, 8.00551622e-02,\n        4.55177860e-01],\n       [6.11770206e-01, 8.23929196e-01, 5.36608203e-01, 1.94195671e-01,\n        7.39571501e-01],\n       [2.04010247e-01, 7.17279173e-01, 3.22480947e-01, 4.84363033e-01,\n        8.33059390e-01],\n       [5.29421889e-01, 9.84792551e-01, 3.44150256e-01, 4.74626520e-01,\n        7.65670106e-01],\n       [7.96493075e-01, 8.92560792e-01, 6.25915538e-01, 3.11921382e-01,\n        4.29486406e-01],\n       [3.77885760e-01, 9.53897512e-01, 1.81839891e-02, 9.56744287e-01,\n        4.76888695e-01],\n       [3.31763417e-02, 2.00692816e-01, 2.13852499e-01, 4.66478684e-01,\n        3.49531257e-02],\n       [4.35542566e-01, 2.98058814e-01, 9.03265452e-01, 9.51115321e-01,\n        8.73475676e-01],\n       [6.68032948e-01, 1.46000097e-01, 8.12767587e-01, 9.35301053e-01,\n        7.43674954e-01],\n       [7.71787419e-02, 2.37568734e-01, 6.91065088e-01, 7.36742024e-01,\n        1.71043171e-01],\n       [2.47657194e-01, 3.39253487e-01, 7.43874856e-01, 5.99993309e-01,\n        2.39033092e-01],\n       [1.90783373e-01, 8.83522133e-01, 9.31622909e-01, 6.68647227e-01,\n        7.85012029e-01],\n       [2.55628694e-01, 5.82255938e-01, 7.43245690e-01, 7.58378514e-01,\n        1.21951811e-02],\n       [5.92194458e-01, 3.01183174e-01, 4.20677066e-01, 8.07774540e-01,\n        4.33779212e-01],\n       [1.11903684e-01, 3.04914957e-01, 8.19325522e-01, 2.87913132e-01,\n        8.95270887e-01],\n       [1.53916321e-01, 9.62849975e-01, 6.44278432e-01, 8.36838776e-01,\n        2.69957903e-02],\n       [4.56426424e-01, 1.11820075e-01, 3.61772621e-02, 8.00703960e-01,\n        9.22277847e-01],\n       [1.16120246e-01, 8.26641000e-01, 9.12036208e-01, 1.12508752e-01,\n        1.78593921e-02],\n       [3.66571862e-01, 5.59191490e-01, 2.17809839e-01, 3.09209698e-03,\n        1.14178911e-01],\n       [3.79842526e-02, 7.41082593e-01, 2.60518754e-01, 3.87886718e-01,\n        9.66672090e-01],\n       [6.93502080e-01, 1.07771721e-01, 3.99763657e-01, 2.05447971e-01,\n        6.54096244e-01],\n       [2.65819702e-01, 1.00139198e-01, 9.86472430e-01, 7.35465768e-01,\n        3.57120954e-01],\n       [9.79114691e-01, 2.56536368e-01, 6.80200761e-01, 2.52066436e-01,\n        7.91582773e-02],\n       [3.75072677e-01, 9.56906303e-01, 5.62738353e-01, 5.82750149e-01,\n        4.26698619e-01],\n       [2.01402828e-01, 9.18611848e-01, 1.99834845e-01, 3.79508699e-02,\n        3.61783025e-01],\n       [6.76685890e-01, 4.73792314e-01, 8.18020476e-01, 3.20105329e-01,\n        3.62147229e-01],\n       [6.78095962e-01, 9.62405900e-02, 8.28840980e-01, 7.42700753e-01,\n        1.63331134e-02],\n       [9.24711532e-01, 9.53558388e-01, 6.44295547e-01, 1.71794849e-01,\n        5.13884448e-01],\n       [2.52895039e-01, 8.16993515e-01, 7.40473393e-01, 4.11815374e-01,\n        8.47628553e-01],\n       [6.95833466e-01, 2.08405766e-01, 4.70056233e-01, 8.84857380e-01,\n        9.19246963e-01],\n       [9.55516841e-01, 3.96118203e-02, 1.49620024e-01, 5.14310634e-01,\n        3.03979399e-01],\n       [5.74397984e-01, 7.11174913e-01, 1.47124108e-01, 1.36999644e-01,\n        1.40004825e-01],\n       [1.52618029e-01, 7.30113435e-01, 8.90499037e-01, 3.55782420e-02,\n        4.17495425e-01],\n       [5.99884625e-01, 4.22837360e-02, 3.33180488e-01, 8.53544848e-01,\n        6.55841539e-01],\n       [5.29499034e-01, 4.05047776e-01, 3.28593608e-01, 4.06587073e-01,\n        1.72386930e-01],\n       [2.96187889e-01, 7.28763362e-01, 7.31025889e-01, 8.73273232e-01,\n        9.95740325e-03],\n       [3.61867692e-01, 5.41412605e-01, 3.86939563e-01, 3.80143420e-01,\n        7.20151089e-01]])"
     },
     "execution_count": 36,
     "metadata": {},
     "output_type": "execute_result"
    }
   ],
   "source": [
    "data = np.random.rand(100,5)\n",
    "print(\"Mean=\",data.mean(axis=0))\n",
    "print(\"Std=\",data.std(axis=0))\n",
    "data"
   ],
   "metadata": {
    "collapsed": false,
    "ExecuteTime": {
     "end_time": "2023-10-02T16:10:38.713935300Z",
     "start_time": "2023-10-02T16:10:38.707012100Z"
    }
   },
   "id": "e42cc2d11285ede2"
  },
  {
   "cell_type": "code",
   "execution_count": 37,
   "outputs": [
    {
     "name": "stdout",
     "output_type": "stream",
     "text": [
      "Mean= [-4.42978987e-16 -4.48183157e-16  5.08482145e-16  2.69229083e-16\n",
      " -1.35447209e-16]\n",
      "Std= [1. 1. 1. 1. 1.]\n"
     ]
    },
    {
     "data": {
      "text/plain": "array([[4.19671066e-01, 6.44707292e-01, 6.73773180e-01, 6.83353496e-01,\n        8.08820856e-01],\n       [6.56440099e-01, 2.32073258e-01, 5.19085279e-02, 5.82111443e-01,\n        3.96374586e-01],\n       [2.56187626e-01, 4.51236108e-01, 8.62154121e-01, 4.90273637e-01,\n        8.33126133e-01],\n       [4.19026679e-02, 3.63528479e-01, 2.56620829e-01, 1.36008401e-01,\n        9.01492638e-01],\n       [8.54007988e-01, 5.42361717e-01, 5.67351762e-01, 1.47172705e-01,\n        4.87168363e-01],\n       [1.44820188e-01, 8.91136645e-02, 4.07940427e-01, 6.21917991e-01,\n        5.12986835e-01],\n       [7.23715409e-01, 5.06746162e-01, 7.09887112e-01, 7.93575826e-02,\n        8.95145808e-01],\n       [1.43322460e-02, 2.57414228e-01, 7.30456290e-01, 3.51842656e-01,\n        8.07564034e-01],\n       [4.38565176e-01, 8.60069954e-01, 4.40199670e-01, 2.30375339e-01,\n        5.62455531e-01],\n       [1.25861646e-01, 4.81681801e-01, 9.88311633e-01, 4.37225241e-01,\n        2.27869903e-01],\n       [5.83329659e-01, 9.73077244e-01, 7.99644876e-01, 1.12176362e-01,\n        8.96962888e-01],\n       [6.96116741e-01, 5.49444835e-01, 3.53827609e-01, 4.42898352e-01,\n        8.74395015e-01],\n       [9.13269841e-01, 3.20131749e-01, 3.64052804e-01, 5.31972753e-01,\n        8.14109023e-01],\n       [5.64760779e-01, 6.42770958e-01, 3.78947811e-01, 3.19230071e-01,\n        8.33046987e-01],\n       [7.53795999e-01, 3.36323724e-02, 2.70282285e-01, 8.17606843e-01,\n        6.51155443e-01],\n       [3.69388923e-01, 7.95745656e-01, 8.45108653e-01, 3.36084083e-01,\n        3.92162704e-01],\n       [5.75577728e-01, 9.35427362e-01, 2.07865197e-01, 4.72031446e-01,\n        3.90765266e-01],\n       [2.41758818e-01, 7.99182752e-01, 2.66670927e-02, 1.37303598e-01,\n        8.15886899e-01],\n       [2.51794856e-01, 5.99436992e-01, 9.89812429e-01, 1.57494143e-01,\n        5.58112110e-01],\n       [4.86184047e-01, 5.14076045e-01, 6.28840114e-01, 5.09690016e-02,\n        9.48729995e-01],\n       [6.39587336e-01, 7.59912135e-01, 3.13419880e-01, 3.92573912e-01,\n        8.59883295e-02],\n       [3.24863455e-01, 5.45981638e-01, 9.48124664e-01, 8.80804558e-02,\n        3.47365143e-01],\n       [2.41244062e-01, 3.59318596e-01, 5.07193274e-01, 8.01963216e-01,\n        9.37190702e-01],\n       [5.28193240e-01, 5.45079033e-01, 1.22437292e-01, 2.14228769e-01,\n        4.75518482e-01],\n       [9.47443201e-01, 6.44638744e-03, 7.80491023e-01, 3.63634750e-01,\n        4.71657149e-01],\n       [7.47778917e-01, 1.14909701e-01, 6.13752501e-01, 3.42589123e-01,\n        7.24309569e-01],\n       [4.15054497e-01, 1.28229309e-01, 4.55918826e-01, 9.94958761e-01,\n        4.72416789e-01],\n       [8.59729584e-01, 8.35154688e-01, 9.98227695e-01, 3.51223422e-01,\n        1.61435755e-01],\n       [7.23862547e-01, 7.98034227e-01, 7.87900215e-01, 3.88083022e-01,\n        6.35854163e-01],\n       [5.31042630e-01, 4.96445484e-01, 8.52618897e-01, 4.50129653e-01,\n        4.01789294e-01],\n       [6.03493402e-01, 6.72267615e-01, 3.11014332e-01, 2.24974965e-01,\n        8.95323860e-01],\n       [8.60054518e-01, 8.22249759e-01, 7.12273767e-01, 6.15099175e-01,\n        8.28917548e-01],\n       [1.42436736e-01, 1.56793673e-01, 4.81037131e-01, 5.78580313e-01,\n        6.65603083e-01],\n       [4.05495314e-01, 5.19805519e-01, 8.45958886e-01, 3.01884869e-01,\n        3.51944582e-01],\n       [2.06114921e-01, 5.16539035e-01, 7.56022260e-01, 2.05069718e-01,\n        7.84161291e-01],\n       [3.10578131e-01, 8.74426691e-01, 3.37392594e-01, 1.15142775e-01,\n        9.49837494e-01],\n       [9.50117448e-01, 1.97408706e-02, 4.85897690e-02, 7.16099698e-01,\n        1.62467289e-01],\n       [1.92645789e-01, 6.65443828e-01, 8.51141667e-01, 1.17809939e-01,\n        3.30509569e-01],\n       [3.34895540e-01, 9.50426216e-01, 7.34103496e-01, 9.89779367e-01,\n        2.47776560e-01],\n       [6.97908802e-01, 9.23768740e-02, 9.62159689e-01, 9.07841129e-01,\n        3.30777752e-02],\n       [7.40787380e-01, 9.42346260e-01, 5.96207984e-01, 6.03190269e-01,\n        6.41324893e-01],\n       [7.13665655e-01, 4.11476424e-02, 4.41361168e-01, 2.71085543e-01,\n        2.26278379e-01],\n       [1.94831103e-01, 5.72968142e-01, 8.91821498e-01, 1.91309234e-01,\n        2.11323640e-01],\n       [8.65939500e-01, 4.28664049e-01, 3.08041206e-01, 3.45160102e-01,\n        2.10680178e-01],\n       [3.31075668e-01, 7.90586777e-01, 4.32340874e-01, 7.13475954e-01,\n        7.69208566e-01],\n       [4.90728276e-02, 6.40874991e-01, 8.25873886e-01, 6.70020285e-01,\n        2.86376825e-01],\n       [3.71737569e-01, 1.21386210e-01, 3.86267817e-01, 4.02131874e-01,\n        5.53437417e-01],\n       [5.72376346e-01, 7.83277592e-01, 4.08583015e-02, 2.18070752e-02,\n        6.19772503e-01],\n       [7.54252789e-01, 6.03288828e-01, 9.06208840e-01, 8.57828988e-01,\n        4.79658017e-01],\n       [1.32814186e-01, 9.52782686e-01, 3.92391394e-01, 7.94372270e-01,\n        5.34438271e-01],\n       [6.67483881e-01, 8.96034393e-01, 5.93558701e-01, 2.25203052e-01,\n        2.23870183e-01],\n       [6.64210495e-01, 9.61578619e-01, 7.51260510e-01, 7.95589041e-02,\n        4.96296716e-01],\n       [7.43267970e-01, 9.07987773e-01, 1.53777407e-01, 9.31817459e-01,\n        5.02098104e-01],\n       [2.49568815e-02, 8.50396138e-01, 2.46350315e-01, 5.26986085e-01,\n        2.01446704e-01],\n       [8.09175058e-01, 2.81917860e-01, 6.30780111e-01, 4.56700905e-01,\n        6.86257166e-01],\n       [8.20394416e-01, 1.70887705e-01, 6.36907226e-01, 3.60969220e-01,\n        3.78876598e-01],\n       [6.32442208e-01, 2.27295415e-01, 8.16462998e-01, 8.05602862e-01,\n        6.43292526e-01],\n       [6.72814717e-01, 1.27965332e-01, 8.55502758e-01, 3.50073786e-01,\n        3.97181255e-01],\n       [1.91694582e-01, 1.16713029e-01, 9.49375307e-01, 9.09290297e-01,\n        5.95141336e-01],\n       [5.48127901e-02, 2.92491690e-01, 8.58613095e-04, 1.49879280e-01,\n        2.10544838e-01],\n       [9.31902488e-01, 2.38458499e-01, 2.94658198e-04, 9.42871581e-02,\n        5.70992464e-02],\n       [8.09969167e-01, 9.35427193e-01, 9.41944602e-01, 8.33505994e-01,\n        6.04211181e-01],\n       [4.91751667e-01, 9.06956482e-01, 7.34981556e-01, 2.78323929e-01,\n        5.79980573e-01],\n       [4.07422831e-01, 9.03305839e-01, 4.80818167e-01, 8.00551622e-02,\n        4.55177860e-01],\n       [6.11770206e-01, 8.23929196e-01, 5.36608203e-01, 1.94195671e-01,\n        7.39571501e-01],\n       [2.04010247e-01, 7.17279173e-01, 3.22480947e-01, 4.84363033e-01,\n        8.33059390e-01],\n       [5.29421889e-01, 9.84792551e-01, 3.44150256e-01, 4.74626520e-01,\n        7.65670106e-01],\n       [7.96493075e-01, 8.92560792e-01, 6.25915538e-01, 3.11921382e-01,\n        4.29486406e-01],\n       [3.77885760e-01, 9.53897512e-01, 1.81839891e-02, 9.56744287e-01,\n        4.76888695e-01],\n       [3.31763417e-02, 2.00692816e-01, 2.13852499e-01, 4.66478684e-01,\n        3.49531257e-02],\n       [4.35542566e-01, 2.98058814e-01, 9.03265452e-01, 9.51115321e-01,\n        8.73475676e-01],\n       [6.68032948e-01, 1.46000097e-01, 8.12767587e-01, 9.35301053e-01,\n        7.43674954e-01],\n       [7.71787419e-02, 2.37568734e-01, 6.91065088e-01, 7.36742024e-01,\n        1.71043171e-01],\n       [2.47657194e-01, 3.39253487e-01, 7.43874856e-01, 5.99993309e-01,\n        2.39033092e-01],\n       [1.90783373e-01, 8.83522133e-01, 9.31622909e-01, 6.68647227e-01,\n        7.85012029e-01],\n       [2.55628694e-01, 5.82255938e-01, 7.43245690e-01, 7.58378514e-01,\n        1.21951811e-02],\n       [5.92194458e-01, 3.01183174e-01, 4.20677066e-01, 8.07774540e-01,\n        4.33779212e-01],\n       [1.11903684e-01, 3.04914957e-01, 8.19325522e-01, 2.87913132e-01,\n        8.95270887e-01],\n       [1.53916321e-01, 9.62849975e-01, 6.44278432e-01, 8.36838776e-01,\n        2.69957903e-02],\n       [4.56426424e-01, 1.11820075e-01, 3.61772621e-02, 8.00703960e-01,\n        9.22277847e-01],\n       [1.16120246e-01, 8.26641000e-01, 9.12036208e-01, 1.12508752e-01,\n        1.78593921e-02],\n       [3.66571862e-01, 5.59191490e-01, 2.17809839e-01, 3.09209698e-03,\n        1.14178911e-01],\n       [3.79842526e-02, 7.41082593e-01, 2.60518754e-01, 3.87886718e-01,\n        9.66672090e-01],\n       [6.93502080e-01, 1.07771721e-01, 3.99763657e-01, 2.05447971e-01,\n        6.54096244e-01],\n       [2.65819702e-01, 1.00139198e-01, 9.86472430e-01, 7.35465768e-01,\n        3.57120954e-01],\n       [9.79114691e-01, 2.56536368e-01, 6.80200761e-01, 2.52066436e-01,\n        7.91582773e-02],\n       [3.75072677e-01, 9.56906303e-01, 5.62738353e-01, 5.82750149e-01,\n        4.26698619e-01],\n       [2.01402828e-01, 9.18611848e-01, 1.99834845e-01, 3.79508699e-02,\n        3.61783025e-01],\n       [6.76685890e-01, 4.73792314e-01, 8.18020476e-01, 3.20105329e-01,\n        3.62147229e-01],\n       [6.78095962e-01, 9.62405900e-02, 8.28840980e-01, 7.42700753e-01,\n        1.63331134e-02],\n       [9.24711532e-01, 9.53558388e-01, 6.44295547e-01, 1.71794849e-01,\n        5.13884448e-01],\n       [2.52895039e-01, 8.16993515e-01, 7.40473393e-01, 4.11815374e-01,\n        8.47628553e-01],\n       [6.95833466e-01, 2.08405766e-01, 4.70056233e-01, 8.84857380e-01,\n        9.19246963e-01],\n       [9.55516841e-01, 3.96118203e-02, 1.49620024e-01, 5.14310634e-01,\n        3.03979399e-01],\n       [5.74397984e-01, 7.11174913e-01, 1.47124108e-01, 1.36999644e-01,\n        1.40004825e-01],\n       [1.52618029e-01, 7.30113435e-01, 8.90499037e-01, 3.55782420e-02,\n        4.17495425e-01],\n       [5.99884625e-01, 4.22837360e-02, 3.33180488e-01, 8.53544848e-01,\n        6.55841539e-01],\n       [5.29499034e-01, 4.05047776e-01, 3.28593608e-01, 4.06587073e-01,\n        1.72386930e-01],\n       [2.96187889e-01, 7.28763362e-01, 7.31025889e-01, 8.73273232e-01,\n        9.95740325e-03],\n       [3.61867692e-01, 5.41412605e-01, 3.86939563e-01, 3.80143420e-01,\n        7.20151089e-01]])"
     },
     "execution_count": 37,
     "metadata": {},
     "output_type": "execute_result"
    }
   ],
   "source": [
    "model = StandardScaler()\n",
    "x_proccessed = model.fit_transform(X=data)\n",
    "print(\"Mean=\",x_proccessed.mean(axis=0))\n",
    "print(\"Std=\",x_proccessed.std(axis=0))\n",
    "data"
   ],
   "metadata": {
    "collapsed": false,
    "ExecuteTime": {
     "end_time": "2023-10-02T16:11:32.021144500Z",
     "start_time": "2023-10-02T16:11:32.008260400Z"
    }
   },
   "id": "8b7d9cee645a22c2"
  }
 ],
 "metadata": {
  "kernelspec": {
   "display_name": "Python 3",
   "language": "python",
   "name": "python3"
  },
  "language_info": {
   "codemirror_mode": {
    "name": "ipython",
    "version": 2
   },
   "file_extension": ".py",
   "mimetype": "text/x-python",
   "name": "python",
   "nbconvert_exporter": "python",
   "pygments_lexer": "ipython2",
   "version": "2.7.6"
  }
 },
 "nbformat": 4,
 "nbformat_minor": 5
}
