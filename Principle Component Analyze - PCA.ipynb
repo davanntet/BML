{
 "cells": [
  {
   "cell_type": "code",
   "execution_count": null,
   "outputs": [],
   "source": [
    "import numpy as np\n",
    "import pandas as pd\n",
    "import seaborn as sns\n",
    "import matplotlib.pyplot as plt\n",
    "from sklearn.decomposition import PCA\n",
    "sns.set()"
   ],
   "metadata": {
    "collapsed": false
   },
   "id": "422877a5c87c1808"
  },
  {
   "cell_type": "code",
   "execution_count": 26,
   "outputs": [],
   "source": [
    "X = np.random.rand(100,50)\n",
    "pca = PCA()\n",
    "pca.fit(X)\n",
    "nc = np.where(pca.explained_variance_ratio_.cumsum()>0.95)\n",
    "# sns.kdeplot(pca.explained_variance_ratio_.cumsum())"
   ],
   "metadata": {
    "collapsed": false,
    "ExecuteTime": {
     "end_time": "2023-10-06T07:55:11.357062100Z",
     "start_time": "2023-10-06T07:55:11.349659200Z"
    }
   },
   "id": "cf79b122b6ee00ee"
  },
  {
   "cell_type": "code",
   "execution_count": 38,
   "outputs": [],
   "source": [
    "def reduction_pca(energy_value,X):\n",
    "    m = PCA()\n",
    "    m.fit(X)\n",
    "    nc = np.where(m.explained_variance_ratio_.cumsum()>energy_value)[0][0]\n",
    "    m = PCA(n_components=nc)\n",
    "    m.fit(X)\n",
    "    X2 = m.transform(X)\n",
    "    # we can use fit_transform instead of fit and transform\n",
    "    return X2"
   ],
   "metadata": {
    "collapsed": false,
    "ExecuteTime": {
     "end_time": "2023-10-06T08:14:26.223827300Z",
     "start_time": "2023-10-06T08:14:26.211636300Z"
    }
   },
   "id": "5cb7af420203497"
  },
  {
   "cell_type": "code",
   "execution_count": 39,
   "outputs": [
    {
     "data": {
      "text/plain": "array([[-0.31094888,  0.53917739,  0.42178847, ...,  0.25928566,\n        -0.22052137,  0.09070429],\n       [-0.03287519,  1.11377598, -0.27397674, ..., -0.18580077,\n        -0.2468614 ,  0.15634117],\n       [-0.29296097,  0.48762241, -0.64121607, ...,  0.05331447,\n         0.0070283 ,  0.01010932],\n       ...,\n       [-0.48935285,  0.42514216,  0.45676787, ..., -0.18987145,\n        -0.32223811, -0.17688359],\n       [ 0.35812986, -0.43641973,  0.83125815, ..., -0.31256293,\n         0.02003396,  0.18164406],\n       [-0.8783955 ,  0.51878536, -0.07732485, ..., -0.10167702,\n        -0.0103981 , -0.09030519]])"
     },
     "execution_count": 39,
     "metadata": {},
     "output_type": "execute_result"
    }
   ],
   "source": [
    "X2 = reduction_pca(0.90,X)\n",
    "X2"
   ],
   "metadata": {
    "collapsed": false,
    "ExecuteTime": {
     "end_time": "2023-10-06T08:14:29.057620Z",
     "start_time": "2023-10-06T08:14:29.042164300Z"
    }
   },
   "id": "663aa622959a195b"
  },
  {
   "cell_type": "code",
   "execution_count": 40,
   "outputs": [
    {
     "data": {
      "text/plain": "(100, 33)"
     },
     "execution_count": 40,
     "metadata": {},
     "output_type": "execute_result"
    }
   ],
   "source": [
    "X2.shape"
   ],
   "metadata": {
    "collapsed": false,
    "ExecuteTime": {
     "end_time": "2023-10-06T08:14:43.475726700Z",
     "start_time": "2023-10-06T08:14:43.460106700Z"
    }
   },
   "id": "efe02bebc25a34f"
  }
 ],
 "metadata": {
  "kernelspec": {
   "display_name": "Python 3",
   "language": "python",
   "name": "python3"
  },
  "language_info": {
   "codemirror_mode": {
    "name": "ipython",
    "version": 2
   },
   "file_extension": ".py",
   "mimetype": "text/x-python",
   "name": "python",
   "nbconvert_exporter": "python",
   "pygments_lexer": "ipython2",
   "version": "2.7.6"
  }
 },
 "nbformat": 4,
 "nbformat_minor": 5
}
